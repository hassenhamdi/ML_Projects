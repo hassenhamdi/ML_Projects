{
 "cells": [
  {
   "cell_type": "markdown",
   "metadata": {},
   "source": [
    "<h1 style=\"text-align:center\"> Convnet Handwritten Digit image recognition</p1>\n"
   ]
  },
  {
   "cell_type": "code",
   "execution_count": 14,
   "metadata": {},
   "outputs": [
    {
     "name": "stdout",
     "output_type": "stream",
     "text": [
      "Accuracy :  97.93\n",
      "INFO:tensorflow:Assets written to: cnn_digit_detection/assets\n"
     ]
    },
    {
     "name": "stderr",
     "output_type": "stream",
     "text": [
      "INFO:tensorflow:Assets written to: cnn_digit_detection/assets\n"
     ]
    },
    {
     "name": "stdout",
     "output_type": "stream",
     "text": [
      "Model Saved\n"
     ]
    }
   ],
   "source": [
    "from tensorflow.keras.datasets import mnist\n",
    "from tensorflow.keras.models import Sequential\n",
    "from tensorflow.keras.losses import CategoricalCrossentropy\n",
    "from tensorflow.keras.layers import Conv2D, Dense , MaxPooling2D , Flatten\n",
    "from tensorflow.keras.optimizers import Adam\n",
    "from tensorflow.keras.utils import to_categorical\n",
    "\n",
    "import os\n",
    "os.chdir(os.path.expanduser(\"~/Desktop\"))\n",
    "\n",
    "\n",
    "\n",
    "def load_dataset():\n",
    "\t(trainX, trainY), (testX, testY) = mnist.load_data()\n",
    "\ttrainX = trainX.reshape((trainX.shape[0], 28, 28, 1))\n",
    "\ttestX = testX.reshape((testX.shape[0], 28, 28, 1))\n",
    "\n",
    "\ttrainY = to_categorical(trainY)\n",
    "\ttestY = to_categorical(testY)\n",
    "\n",
    "\treturn trainX, trainY, testX, testY\n",
    "\n",
    "\n",
    "def dataPreprocess(train, test):\n",
    "\n",
    "\tnormalized_train = train / 255.0\n",
    "\tnormalized_test = test / 255.0\n",
    "\t\n",
    "\treturn normalized_train , normalized_test\n",
    "\n",
    "\n",
    "def build_model():\n",
    "\n",
    "\tmodel = Sequential()\n",
    "\tmodel.add(Conv2D(32, (3, 3), activation='relu' , input_shape=(28, 28, 1)))\n",
    "\tmodel.add(MaxPooling2D((2, 2)))\n",
    "\tmodel.add(Flatten())\n",
    "\tmodel.add(Dense(100, activation='relu'))\n",
    "\tmodel.add(Dense(10, activation='linear'))\n",
    "\n",
    "\tmodel.compile(Adam(learning_rate=0.01) , loss= CategoricalCrossentropy(from_logits=True), metrics=['accuracy'])\n",
    "\t\n",
    "\treturn model\n",
    "\n",
    "\n",
    "def train_model(trainX, trainY,testX, testY ):\n",
    "\tmodel = build_model()\n",
    "\tmodel.fit(trainX, trainY, epochs=7, batch_size=50, verbose=0)\n",
    "\t_, accuracy = model.evaluate(testX, testY, verbose=0)\n",
    "\n",
    "\tprint(f\"Accuracy :  {accuracy*100.0:.2f}\")\n",
    "\treturn model\n",
    "\n",
    "\n",
    "\n",
    "\n",
    "def createModel():\n",
    "\ttrainX, trainY, testX, testY = load_dataset()\n",
    "\ttrainX, testX = dataPreprocess(trainX, testX)\n",
    "\tmodel= train_model(trainX, trainY,testX, testY)\n",
    "\tmodel.save('cnn_digit_detection')\n",
    "\tprint(\"Model Saved\")\n",
    "\treturn model\n",
    "\n",
    "model = createModel()"
   ]
  },
  {
   "cell_type": "code",
   "execution_count": 11,
   "metadata": {},
   "outputs": [
    {
     "name": "stdout",
     "output_type": "stream",
     "text": [
      "0\n"
     ]
    },
    {
     "data": {
      "image/png": "[encoded data removed]",
      "text/plain": [
       "<Figure size 640x480 with 1 Axes>"
      ]
     },
     "metadata": {},
     "output_type": "display_data"
    }
   ],
   "source": [
    "import os\n",
    "import cv2 as cv\n",
    "import numpy as np\n",
    "import tensorflow as tf\n",
    "import matplotlib.pyplot as plt\n",
    "\n",
    "os.chdir(os.path.expanduser(\"~/Desktop\"))\n",
    "loaded_model = tf.keras.models.load_model('cnn_digit_detection')\n",
    "img = cv.imread('img.png')\n",
    "img = cv.cvtColor(img, cv.COLOR_BGR2GRAY)\n",
    "\n",
    "# model testing.\n",
    "predicion = loaded_model.predict(np.array([img]),verbose=0)\n",
    "print(np.argmax(predicion))\n",
    "\n",
    "\n",
    "plt.imshow(img, cmap='gray')\n",
    "plt.show()\n",
    "\n"
   ]
  }
 ],
 "metadata": {
  "kernelspec": {
   "display_name": "Python 3",
   "language": "python",
   "name": "python3"
  },
  "language_info": {
   "codemirror_mode": {
    "name": "ipython",
    "version": 3
   },
   "file_extension": ".py",
   "mimetype": "text/x-python",
   "name": "python",
   "nbconvert_exporter": "python",
   "pygments_lexer": "ipython3",
   "version": "3.11.5"
  }
 },
 "nbformat": 4,
 "nbformat_minor": 2
}
